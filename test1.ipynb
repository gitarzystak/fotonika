{
 "metadata": {
  "name": "test1"
 }, 
 "name": "test1", 
 "nbformat": 2, 
 "worksheets": [
  {
   "cells": [
    {
     "cell_type": "code", 
     "collapsed": true, 
     "input": "%matplotlib nbagg\nimport numpy as np\nimport matplotlib.pyplot as plt\nfrom matplotlib.widgets import Slider, Button, RadioButtons\nimport matplotlib.animation as animation\n\nfig1, ax = plt.subplots()\n\n\ndef f(x, y,a,v,al):\n    return a*(np.sin(x*v*np.cos(al)+y*v*np.sin(al)))\n    #return a*(np.sin(x*v) + np.cos(y*v))\n\nx = np.linspace(0, 2 * np.pi, 120)\ny = np.linspace(0, 2 * np.pi, 100).reshape(-1, 1)\n\na=1;\nv=1;\nal=np.pi/2;\n#img.append([plt.imshow(f(x, y,a,v))])\nl = plt.imshow(f(x, y,a,v,al), animated=True)\ndef updatefig(*args):\n    global x, y\n    x += np.pi / 15.\n    y += np.pi / 20.\n    l.set_array(f(x, y,a,v,al))\n    return l,\n\nplt.subplots_adjust(left=0.25, bottom=0.25)\n\naxcolor = 'lightgoldenrodyellow'\naxfreq = plt.axes([0.25, 0.1, 0.65, 0.03], facecolor=axcolor)\naxamp = plt.axes([0.25, 0.15, 0.65, 0.03], facecolor=axcolor)\naxal = plt.axes([0.25, 0.05, 0.65, 0.03], facecolor=axcolor)\n\nsfreq = Slider(axfreq, 'Freq', 0.1, 3.0, valinit=1)\nsamp = Slider(axamp, 'Amp', 0.1, 2.0, valinit=1)\nsal = Slider(axal, 'Alpha', 0.1, 1.5, valinit=1)\n\n\ndef update(val):\n    global a,v,al\n    a = samp.val\n    v = sfreq.val\n    al = sal.val\n    l.set_data(f(x,y,a,v,al))\n    fig.canvas.draw_idle()\nsfreq.on_changed(update)\nsamp.on_changed(update)\nsal.on_changed(update)\n\nresetax = plt.axes([0.8, 0.0, 0.1, 0.04])\nbutton = Button(resetax, 'Reset', color=axcolor, hovercolor='0.975')\n\ndef reset(event):\n    sfreq.reset()\n    samp.reset()\nbutton.on_clicked(reset)\n\nani = animation.FuncAnimation(fig1, updatefig, interval=50, blit=True)\nplt.show()", 
     "language": "python", 
     "outputs": []
    }
   ]
  }
 ]
}